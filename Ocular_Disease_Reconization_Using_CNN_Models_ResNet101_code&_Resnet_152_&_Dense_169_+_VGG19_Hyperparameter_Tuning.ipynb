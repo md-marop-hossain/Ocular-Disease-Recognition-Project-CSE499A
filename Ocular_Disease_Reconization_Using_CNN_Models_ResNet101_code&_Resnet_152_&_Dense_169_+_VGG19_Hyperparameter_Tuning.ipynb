{
  "nbformat": 4,
  "nbformat_minor": 0,
  "metadata": {
    "colab": {
      "provenance": [],
      "authorship_tag": "ABX9TyMD8+HkJfnkZfrAGGzHKzNO",
      "include_colab_link": true
    },
    "kernelspec": {
      "name": "python3",
      "display_name": "Python 3"
    },
    "language_info": {
      "name": "python"
    }
  },
  "cells": [
    {
      "cell_type": "markdown",
      "metadata": {
        "id": "view-in-github",
        "colab_type": "text"
      },
      "source": [
        "<a href=\"https://colab.research.google.com/github/md-marop-hossain/Ocular-Disease-Recognition-Project-CSE499A/blob/main/Ocular_Disease_Reconization_Using_CNN_Models_ResNet101_code%26_Resnet_152_%26_Dense_169_%2B_VGG19_Hyperparameter_Tuning.ipynb\" target=\"_parent\"><img src=\"https://colab.research.google.com/assets/colab-badge.svg\" alt=\"Open In Colab\"/></a>"
      ]
    },
    {
      "cell_type": "code",
      "execution_count": null,
      "metadata": {
        "id": "RmLGZyL1Nqgy"
      },
      "outputs": [],
      "source": [
        "!pip install kaggle\n",
        "from google.colab import files\n",
        "files.upload()\n",
        "#create a kaggle folder\n",
        "! mkdir ~/.kaggle\n",
        "#copy the kaggle .josn to folder created\n",
        "! cp kaggle.json ~/.kaggle/\n",
        "#permission for the json the act\n",
        "! chmod 600 ~/.kaggle/kaggle.json\n",
        "!kaggle datasets list\n",
        "! kaggle datasets download -d andrewmvd/ocular-disease-recognition-odir5k\n",
        "! unzip ocular-disease-recognition-odir5k"
      ]
    }
  ]
}