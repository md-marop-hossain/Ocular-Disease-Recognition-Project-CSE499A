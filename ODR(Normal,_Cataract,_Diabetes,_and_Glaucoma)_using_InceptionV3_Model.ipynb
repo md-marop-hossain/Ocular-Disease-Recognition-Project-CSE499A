{
  "nbformat": 4,
  "nbformat_minor": 0,
  "metadata": {
    "colab": {
      "provenance": [],
      "authorship_tag": "ABX9TyO1BsaB+qW72Ha4SmJ2jCmr",
      "include_colab_link": true
    },
    "kernelspec": {
      "name": "python3",
      "display_name": "Python 3"
    },
    "language_info": {
      "name": "python"
    },
    "accelerator": "TPU"
  },
  "cells": [
    {
      "cell_type": "markdown",
      "metadata": {
        "id": "view-in-github",
        "colab_type": "text"
      },
      "source": [
        "<a href=\"https://colab.research.google.com/github/md-marop-hossain/Ocular-Disease-Recognition-Project-CSE499A/blob/main/ODR(Normal%2C_Cataract%2C_Diabetes%2C_and_Glaucoma)_using_InceptionV3_Model.ipynb\" target=\"_parent\"><img src=\"https://colab.research.google.com/assets/colab-badge.svg\" alt=\"Open In Colab\"/></a>"
      ]
    },
    {
      "cell_type": "code",
      "execution_count": null,
      "metadata": {
        "id": "8xrl93jMcgIf"
      },
      "outputs": [],
      "source": [
        "!pip install kaggle\n",
        "from google.colab import files\n",
        "files.upload()\n",
        "#create a kaggle folder\n",
        "! mkdir ~/.kaggle\n",
        "#copy the kaggle .josn to folder created\n",
        "! cp kaggle.json ~/.kaggle/\n",
        "#permission for the json the act\n",
        "! chmod 600 ~/.kaggle/kaggle.json\n",
        "!kaggle datasets list\n",
        "! kaggle datasets download -d andrewmvd/ocular-disease-recognition-odir5k\n",
        "! unzip ocular-disease-recognition-odir5k"
      ]
    },
    {
      "cell_type": "code",
      "source": [
        "#Importing libraries\n",
        "import os\n",
        "import seaborn as sns\n",
        "import pandas as pd\n",
        "import numpy as np\n",
        "import cv2 as cv\n",
        "from tqdm import tqdm\n",
        "import random\n",
        "import matplotlib.pyplot as plt\n",
        "from sklearn.metrics import confusion_matrix\n",
        "from sklearn.metrics import f1_score\n",
        "from sklearn.metrics import accuracy_score\n",
        "from sklearn.metrics import recall_score\n",
        "from sklearn.metrics import precision_score\n",
        "import tensorflow as tf\n",
        "from tensorflow.keras.preprocessing.image import load_img,img_to_array\n",
        "from tensorflow.keras.layers import Dropout\n",
        "from tensorflow.keras.regularizers import l2\n",
        "from tensorflow.keras.utils import to_categorical"
      ],
      "metadata": {
        "id": "WeefkrWxfgfj"
      },
      "execution_count": 2,
      "outputs": []
    },
    {
      "cell_type": "code",
      "source": [
        "dataset = pd.read_csv('/content/full_df.csv')"
      ],
      "metadata": {
        "id": "LOz3LdxdfM55"
      },
      "execution_count": 3,
      "outputs": []
    },
    {
      "cell_type": "code",
      "source": [
        "dataset.head(5)"
      ],
      "metadata": {
        "colab": {
          "base_uri": "https://localhost:8080/",
          "height": 582
        },
        "id": "ZslblH0Bfj0K",
        "outputId": "fa0028c7-8296-4c2a-a417-f13b25ef5d7e"
      },
      "execution_count": 4,
      "outputs": [
        {
          "output_type": "execute_result",
          "data": {
            "text/plain": [
              "   ID  Patient Age Patient Sex Left-Fundus Right-Fundus  \\\n",
              "0   0           69      Female  0_left.jpg  0_right.jpg   \n",
              "1   1           57        Male  1_left.jpg  1_right.jpg   \n",
              "2   2           42        Male  2_left.jpg  2_right.jpg   \n",
              "3   4           53        Male  4_left.jpg  4_right.jpg   \n",
              "4   5           50      Female  5_left.jpg  5_right.jpg   \n",
              "\n",
              "                            Left-Diagnostic Keywords  \\\n",
              "0                                           cataract   \n",
              "1                                      normal fundus   \n",
              "2  laser spot，moderate non proliferative retinopathy   \n",
              "3                        macular epiretinal membrane   \n",
              "4             moderate non proliferative retinopathy   \n",
              "\n",
              "                Right-Diagnostic Keywords  N  D  G  C  A  H  M  O  \\\n",
              "0                           normal fundus  0  0  0  1  0  0  0  0   \n",
              "1                           normal fundus  1  0  0  0  0  0  0  0   \n",
              "2  moderate non proliferative retinopathy  0  1  0  0  0  0  0  1   \n",
              "3       mild nonproliferative retinopathy  0  1  0  0  0  0  0  1   \n",
              "4  moderate non proliferative retinopathy  0  1  0  0  0  0  0  0   \n",
              "\n",
              "                                            filepath labels  \\\n",
              "0  ../input/ocular-disease-recognition-odir5k/ODI...  ['N']   \n",
              "1  ../input/ocular-disease-recognition-odir5k/ODI...  ['N']   \n",
              "2  ../input/ocular-disease-recognition-odir5k/ODI...  ['D']   \n",
              "3  ../input/ocular-disease-recognition-odir5k/ODI...  ['D']   \n",
              "4  ../input/ocular-disease-recognition-odir5k/ODI...  ['D']   \n",
              "\n",
              "                     target     filename  \n",
              "0  [1, 0, 0, 0, 0, 0, 0, 0]  0_right.jpg  \n",
              "1  [1, 0, 0, 0, 0, 0, 0, 0]  1_right.jpg  \n",
              "2  [0, 1, 0, 0, 0, 0, 0, 0]  2_right.jpg  \n",
              "3  [0, 1, 0, 0, 0, 0, 0, 0]  4_right.jpg  \n",
              "4  [0, 1, 0, 0, 0, 0, 0, 0]  5_right.jpg  "
            ],
            "text/html": [
              "\n",
              "\n",
              "  <div id=\"df-8c802f65-e4a9-44f9-ab4f-69668c7c8d31\">\n",
              "    <div class=\"colab-df-container\">\n",
              "      <div>\n",
              "<style scoped>\n",
              "    .dataframe tbody tr th:only-of-type {\n",
              "        vertical-align: middle;\n",
              "    }\n",
              "\n",
              "    .dataframe tbody tr th {\n",
              "        vertical-align: top;\n",
              "    }\n",
              "\n",
              "    .dataframe thead th {\n",
              "        text-align: right;\n",
              "    }\n",
              "</style>\n",
              "<table border=\"1\" class=\"dataframe\">\n",
              "  <thead>\n",
              "    <tr style=\"text-align: right;\">\n",
              "      <th></th>\n",
              "      <th>ID</th>\n",
              "      <th>Patient Age</th>\n",
              "      <th>Patient Sex</th>\n",
              "      <th>Left-Fundus</th>\n",
              "      <th>Right-Fundus</th>\n",
              "      <th>Left-Diagnostic Keywords</th>\n",
              "      <th>Right-Diagnostic Keywords</th>\n",
              "      <th>N</th>\n",
              "      <th>D</th>\n",
              "      <th>G</th>\n",
              "      <th>C</th>\n",
              "      <th>A</th>\n",
              "      <th>H</th>\n",
              "      <th>M</th>\n",
              "      <th>O</th>\n",
              "      <th>filepath</th>\n",
              "      <th>labels</th>\n",
              "      <th>target</th>\n",
              "      <th>filename</th>\n",
              "    </tr>\n",
              "  </thead>\n",
              "  <tbody>\n",
              "    <tr>\n",
              "      <th>0</th>\n",
              "      <td>0</td>\n",
              "      <td>69</td>\n",
              "      <td>Female</td>\n",
              "      <td>0_left.jpg</td>\n",
              "      <td>0_right.jpg</td>\n",
              "      <td>cataract</td>\n",
              "      <td>normal fundus</td>\n",
              "      <td>0</td>\n",
              "      <td>0</td>\n",
              "      <td>0</td>\n",
              "      <td>1</td>\n",
              "      <td>0</td>\n",
              "      <td>0</td>\n",
              "      <td>0</td>\n",
              "      <td>0</td>\n",
              "      <td>../input/ocular-disease-recognition-odir5k/ODI...</td>\n",
              "      <td>['N']</td>\n",
              "      <td>[1, 0, 0, 0, 0, 0, 0, 0]</td>\n",
              "      <td>0_right.jpg</td>\n",
              "    </tr>\n",
              "    <tr>\n",
              "      <th>1</th>\n",
              "      <td>1</td>\n",
              "      <td>57</td>\n",
              "      <td>Male</td>\n",
              "      <td>1_left.jpg</td>\n",
              "      <td>1_right.jpg</td>\n",
              "      <td>normal fundus</td>\n",
              "      <td>normal fundus</td>\n",
              "      <td>1</td>\n",
              "      <td>0</td>\n",
              "      <td>0</td>\n",
              "      <td>0</td>\n",
              "      <td>0</td>\n",
              "      <td>0</td>\n",
              "      <td>0</td>\n",
              "      <td>0</td>\n",
              "      <td>../input/ocular-disease-recognition-odir5k/ODI...</td>\n",
              "      <td>['N']</td>\n",
              "      <td>[1, 0, 0, 0, 0, 0, 0, 0]</td>\n",
              "      <td>1_right.jpg</td>\n",
              "    </tr>\n",
              "    <tr>\n",
              "      <th>2</th>\n",
              "      <td>2</td>\n",
              "      <td>42</td>\n",
              "      <td>Male</td>\n",
              "      <td>2_left.jpg</td>\n",
              "      <td>2_right.jpg</td>\n",
              "      <td>laser spot，moderate non proliferative retinopathy</td>\n",
              "      <td>moderate non proliferative retinopathy</td>\n",
              "      <td>0</td>\n",
              "      <td>1</td>\n",
              "      <td>0</td>\n",
              "      <td>0</td>\n",
              "      <td>0</td>\n",
              "      <td>0</td>\n",
              "      <td>0</td>\n",
              "      <td>1</td>\n",
              "      <td>../input/ocular-disease-recognition-odir5k/ODI...</td>\n",
              "      <td>['D']</td>\n",
              "      <td>[0, 1, 0, 0, 0, 0, 0, 0]</td>\n",
              "      <td>2_right.jpg</td>\n",
              "    </tr>\n",
              "    <tr>\n",
              "      <th>3</th>\n",
              "      <td>4</td>\n",
              "      <td>53</td>\n",
              "      <td>Male</td>\n",
              "      <td>4_left.jpg</td>\n",
              "      <td>4_right.jpg</td>\n",
              "      <td>macular epiretinal membrane</td>\n",
              "      <td>mild nonproliferative retinopathy</td>\n",
              "      <td>0</td>\n",
              "      <td>1</td>\n",
              "      <td>0</td>\n",
              "      <td>0</td>\n",
              "      <td>0</td>\n",
              "      <td>0</td>\n",
              "      <td>0</td>\n",
              "      <td>1</td>\n",
              "      <td>../input/ocular-disease-recognition-odir5k/ODI...</td>\n",
              "      <td>['D']</td>\n",
              "      <td>[0, 1, 0, 0, 0, 0, 0, 0]</td>\n",
              "      <td>4_right.jpg</td>\n",
              "    </tr>\n",
              "    <tr>\n",
              "      <th>4</th>\n",
              "      <td>5</td>\n",
              "      <td>50</td>\n",
              "      <td>Female</td>\n",
              "      <td>5_left.jpg</td>\n",
              "      <td>5_right.jpg</td>\n",
              "      <td>moderate non proliferative retinopathy</td>\n",
              "      <td>moderate non proliferative retinopathy</td>\n",
              "      <td>0</td>\n",
              "      <td>1</td>\n",
              "      <td>0</td>\n",
              "      <td>0</td>\n",
              "      <td>0</td>\n",
              "      <td>0</td>\n",
              "      <td>0</td>\n",
              "      <td>0</td>\n",
              "      <td>../input/ocular-disease-recognition-odir5k/ODI...</td>\n",
              "      <td>['D']</td>\n",
              "      <td>[0, 1, 0, 0, 0, 0, 0, 0]</td>\n",
              "      <td>5_right.jpg</td>\n",
              "    </tr>\n",
              "  </tbody>\n",
              "</table>\n",
              "</div>\n",
              "      <button class=\"colab-df-convert\" onclick=\"convertToInteractive('df-8c802f65-e4a9-44f9-ab4f-69668c7c8d31')\"\n",
              "              title=\"Convert this dataframe to an interactive table.\"\n",
              "              style=\"display:none;\">\n",
              "\n",
              "  <svg xmlns=\"http://www.w3.org/2000/svg\" height=\"24px\"viewBox=\"0 0 24 24\"\n",
              "       width=\"24px\">\n",
              "    <path d=\"M0 0h24v24H0V0z\" fill=\"none\"/>\n",
              "    <path d=\"M18.56 5.44l.94 2.06.94-2.06 2.06-.94-2.06-.94-.94-2.06-.94 2.06-2.06.94zm-11 1L8.5 8.5l.94-2.06 2.06-.94-2.06-.94L8.5 2.5l-.94 2.06-2.06.94zm10 10l.94 2.06.94-2.06 2.06-.94-2.06-.94-.94-2.06-.94 2.06-2.06.94z\"/><path d=\"M17.41 7.96l-1.37-1.37c-.4-.4-.92-.59-1.43-.59-.52 0-1.04.2-1.43.59L10.3 9.45l-7.72 7.72c-.78.78-.78 2.05 0 2.83L4 21.41c.39.39.9.59 1.41.59.51 0 1.02-.2 1.41-.59l7.78-7.78 2.81-2.81c.8-.78.8-2.07 0-2.86zM5.41 20L4 18.59l7.72-7.72 1.47 1.35L5.41 20z\"/>\n",
              "  </svg>\n",
              "      </button>\n",
              "\n",
              "\n",
              "\n",
              "    <div id=\"df-fda4866a-8b8f-4f3e-8e52-af2445beb25f\">\n",
              "      <button class=\"colab-df-quickchart\" onclick=\"quickchart('df-fda4866a-8b8f-4f3e-8e52-af2445beb25f')\"\n",
              "              title=\"Suggest charts.\"\n",
              "              style=\"display:none;\">\n",
              "\n",
              "<svg xmlns=\"http://www.w3.org/2000/svg\" height=\"24px\"viewBox=\"0 0 24 24\"\n",
              "     width=\"24px\">\n",
              "    <g>\n",
              "        <path d=\"M19 3H5c-1.1 0-2 .9-2 2v14c0 1.1.9 2 2 2h14c1.1 0 2-.9 2-2V5c0-1.1-.9-2-2-2zM9 17H7v-7h2v7zm4 0h-2V7h2v10zm4 0h-2v-4h2v4z\"/>\n",
              "    </g>\n",
              "</svg>\n",
              "      </button>\n",
              "    </div>\n",
              "\n",
              "<style>\n",
              "  .colab-df-quickchart {\n",
              "    background-color: #E8F0FE;\n",
              "    border: none;\n",
              "    border-radius: 50%;\n",
              "    cursor: pointer;\n",
              "    display: none;\n",
              "    fill: #1967D2;\n",
              "    height: 32px;\n",
              "    padding: 0 0 0 0;\n",
              "    width: 32px;\n",
              "  }\n",
              "\n",
              "  .colab-df-quickchart:hover {\n",
              "    background-color: #E2EBFA;\n",
              "    box-shadow: 0px 1px 2px rgba(60, 64, 67, 0.3), 0px 1px 3px 1px rgba(60, 64, 67, 0.15);\n",
              "    fill: #174EA6;\n",
              "  }\n",
              "\n",
              "  [theme=dark] .colab-df-quickchart {\n",
              "    background-color: #3B4455;\n",
              "    fill: #D2E3FC;\n",
              "  }\n",
              "\n",
              "  [theme=dark] .colab-df-quickchart:hover {\n",
              "    background-color: #434B5C;\n",
              "    box-shadow: 0px 1px 3px 1px rgba(0, 0, 0, 0.15);\n",
              "    filter: drop-shadow(0px 1px 2px rgba(0, 0, 0, 0.3));\n",
              "    fill: #FFFFFF;\n",
              "  }\n",
              "</style>\n",
              "\n",
              "    <script>\n",
              "      async function quickchart(key) {\n",
              "        const containerElement = document.querySelector('#' + key);\n",
              "        const charts = await google.colab.kernel.invokeFunction(\n",
              "            'suggestCharts', [key], {});\n",
              "      }\n",
              "    </script>\n",
              "\n",
              "      <script>\n",
              "\n",
              "function displayQuickchartButton(domScope) {\n",
              "  let quickchartButtonEl =\n",
              "    domScope.querySelector('#df-fda4866a-8b8f-4f3e-8e52-af2445beb25f button.colab-df-quickchart');\n",
              "  quickchartButtonEl.style.display =\n",
              "    google.colab.kernel.accessAllowed ? 'block' : 'none';\n",
              "}\n",
              "\n",
              "        displayQuickchartButton(document);\n",
              "      </script>\n",
              "      <style>\n",
              "    .colab-df-container {\n",
              "      display:flex;\n",
              "      flex-wrap:wrap;\n",
              "      gap: 12px;\n",
              "    }\n",
              "\n",
              "    .colab-df-convert {\n",
              "      background-color: #E8F0FE;\n",
              "      border: none;\n",
              "      border-radius: 50%;\n",
              "      cursor: pointer;\n",
              "      display: none;\n",
              "      fill: #1967D2;\n",
              "      height: 32px;\n",
              "      padding: 0 0 0 0;\n",
              "      width: 32px;\n",
              "    }\n",
              "\n",
              "    .colab-df-convert:hover {\n",
              "      background-color: #E2EBFA;\n",
              "      box-shadow: 0px 1px 2px rgba(60, 64, 67, 0.3), 0px 1px 3px 1px rgba(60, 64, 67, 0.15);\n",
              "      fill: #174EA6;\n",
              "    }\n",
              "\n",
              "    [theme=dark] .colab-df-convert {\n",
              "      background-color: #3B4455;\n",
              "      fill: #D2E3FC;\n",
              "    }\n",
              "\n",
              "    [theme=dark] .colab-df-convert:hover {\n",
              "      background-color: #434B5C;\n",
              "      box-shadow: 0px 1px 3px 1px rgba(0, 0, 0, 0.15);\n",
              "      filter: drop-shadow(0px 1px 2px rgba(0, 0, 0, 0.3));\n",
              "      fill: #FFFFFF;\n",
              "    }\n",
              "  </style>\n",
              "\n",
              "      <script>\n",
              "        const buttonEl =\n",
              "          document.querySelector('#df-8c802f65-e4a9-44f9-ab4f-69668c7c8d31 button.colab-df-convert');\n",
              "        buttonEl.style.display =\n",
              "          google.colab.kernel.accessAllowed ? 'block' : 'none';\n",
              "\n",
              "        async function convertToInteractive(key) {\n",
              "          const element = document.querySelector('#df-8c802f65-e4a9-44f9-ab4f-69668c7c8d31');\n",
              "          const dataTable =\n",
              "            await google.colab.kernel.invokeFunction('convertToInteractive',\n",
              "                                                     [key], {});\n",
              "          if (!dataTable) return;\n",
              "\n",
              "          const docLinkHtml = 'Like what you see? Visit the ' +\n",
              "            '<a target=\"_blank\" href=https://colab.research.google.com/notebooks/data_table.ipynb>data table notebook</a>'\n",
              "            + ' to learn more about interactive tables.';\n",
              "          element.innerHTML = '';\n",
              "          dataTable['output_type'] = 'display_data';\n",
              "          await google.colab.output.renderOutput(dataTable, element);\n",
              "          const docLink = document.createElement('div');\n",
              "          docLink.innerHTML = docLinkHtml;\n",
              "          element.appendChild(docLink);\n",
              "        }\n",
              "      </script>\n",
              "    </div>\n",
              "  </div>\n"
            ]
          },
          "metadata": {},
          "execution_count": 4
        }
      ]
    },
    {
      "cell_type": "code",
      "source": [
        "dataset.keys()"
      ],
      "metadata": {
        "colab": {
          "base_uri": "https://localhost:8080/"
        },
        "id": "1_fNusd7f5s6",
        "outputId": "e3aa4dc9-efdc-4bfc-c771-3b9ad0e6cf9a"
      },
      "execution_count": 8,
      "outputs": [
        {
          "output_type": "execute_result",
          "data": {
            "text/plain": [
              "Index(['ID', 'Patient Age', 'Patient Sex', 'Left-Fundus', 'Right-Fundus',\n",
              "       'Left-Diagnostic Keywords', 'Right-Diagnostic Keywords', 'N', 'D', 'G',\n",
              "       'C', 'A', 'H', 'M', 'O', 'filepath', 'labels', 'target', 'filename'],\n",
              "      dtype='object')"
            ]
          },
          "metadata": {},
          "execution_count": 8
        }
      ]
    },
    {
      "cell_type": "code",
      "source": [
        "sns.countplot(x = dataset['labels'], data = dataset)"
      ],
      "metadata": {
        "colab": {
          "base_uri": "https://localhost:8080/",
          "height": 471
        },
        "id": "P7VAim17fvwC",
        "outputId": "1e2e6f09-9385-42ae-c795-f6eadb5d2f1c"
      },
      "execution_count": 6,
      "outputs": [
        {
          "output_type": "execute_result",
          "data": {
            "text/plain": [
              "<Axes: xlabel='labels', ylabel='count'>"
            ]
          },
          "metadata": {},
          "execution_count": 6
        },
        {
          "output_type": "display_data",
          "data": {
            "text/plain": [
              "<Figure size 640x480 with 1 Axes>"
            ],
            "image/png": "[encoded data removed]"
          },
          "metadata": {}
        }
      ]
    },
    {
      "cell_type": "code",
      "source": [
        "sns.countplot(x = dataset['Patient Sex'], data = dataset)"
      ],
      "metadata": {
        "colab": {
          "base_uri": "https://localhost:8080/",
          "height": 467
        },
        "id": "8i1pt3a8gFar",
        "outputId": "bea11de0-8f10-4aa4-de96-65280931f777"
      },
      "execution_count": 9,
      "outputs": [
        {
          "output_type": "execute_result",
          "data": {
            "text/plain": [
              "<Axes: xlabel='Patient Sex', ylabel='count'>"
            ]
          },
          "metadata": {},
          "execution_count": 9
        },
        {
          "output_type": "display_data",
          "data": {
            "text/plain": [
              "<Figure size 640x480 with 1 Axes>"
            ],
            "image/png": "[encoded data removed]"
          },
          "metadata": {}
        }
      ]
    },
    {
      "cell_type": "code",
      "source": [
        "plt.figure(figsize = (10, 6))\n",
        "plt.hist(dataset['Patient Sex'])"
      ],
      "metadata": {
        "colab": {
          "base_uri": "https://localhost:8080/",
          "height": 595
        },
        "id": "qvrnGe__gQFC",
        "outputId": "0a05deb3-812f-4a1e-a6af-463091363ca6"
      },
      "execution_count": 10,
      "outputs": [
        {
          "output_type": "execute_result",
          "data": {
            "text/plain": [
              "(array([2968.,    0.,    0.,    0.,    0.,    0.,    0.,    0.,    0.,\n",
              "        3424.]),\n",
              " array([0. , 0.1, 0.2, 0.3, 0.4, 0.5, 0.6, 0.7, 0.8, 0.9, 1. ]),\n",
              " <BarContainer object of 10 artists>)"
            ]
          },
          "metadata": {},
          "execution_count": 10
        },
        {
          "output_type": "display_data",
          "data": {
            "text/plain": [
              "<Figure size 1000x600 with 1 Axes>"
            ],
            "image/png": "[encoded data removed]"
          },
          "metadata": {}
        }
      ]
    },
    {
      "cell_type": "code",
      "source": [
        "plt.figure(figsize = (10, 6))\n",
        "plt.hist(dataset['Patient Age'])"
      ],
      "metadata": {
        "colab": {
          "base_uri": "https://localhost:8080/",
          "height": 595
        },
        "id": "TO2OCnesg0Vb",
        "outputId": "bb9f474d-6497-450b-8bd7-009936c875db"
      },
      "execution_count": 11,
      "outputs": [
        {
          "output_type": "execute_result",
          "data": {
            "text/plain": [
              "(array([  28.,    8.,   29.,  223.,  589., 1378., 2057., 1511.,  486.,\n",
              "          83.]),\n",
              " array([ 1., 10., 19., 28., 37., 46., 55., 64., 73., 82., 91.]),\n",
              " <BarContainer object of 10 artists>)"
            ]
          },
          "metadata": {},
          "execution_count": 11
        },
        {
          "output_type": "display_data",
          "data": {
            "text/plain": [
              "<Figure size 1000x600 with 1 Axes>"
            ],
            "image/png": "[encoded data removed]"
          },
          "metadata": {}
        }
      ]
    },
    {
      "cell_type": "markdown",
      "source": [
        "**Extracting definitive diagnosis per patient...**"
      ],
      "metadata": {
        "id": "qIlQotGuhHlK"
      }
    },
    {
      "cell_type": "code",
      "source": [
        "dataset['Left-Diagnostic Keywords'].unique()"
      ],
      "metadata": {
        "colab": {
          "base_uri": "https://localhost:8080/"
        },
        "id": "A5nu9FUDhJgy",
        "outputId": "7481c33d-cf87-43cd-b8c6-763d744f5aa8"
      },
      "execution_count": 12,
      "outputs": [
        {
          "output_type": "execute_result",
          "data": {
            "text/plain": [
              "array(['cataract', 'normal fundus',\n",
              "       'laser spot，moderate non proliferative retinopathy',\n",
              "       'macular epiretinal membrane',\n",
              "       'moderate non proliferative retinopathy', 'drusen',\n",
              "       'epiretinal membrane',\n",
              "       'moderate non proliferative retinopathy，hypertensive retinopathy',\n",
              "       'pathological myopia', 'mild nonproliferative retinopathy',\n",
              "       'hypertensive retinopathy',\n",
              "       'macular epiretinal membrane，mild nonproliferative retinopathy',\n",
              "       'macular hole', 'wet age-related macular degeneration',\n",
              "       'moderate non proliferative retinopathy，laser spot',\n",
              "       'moderate non proliferative retinopathy，myelinated nerve fibers',\n",
              "       'dry age-related macular degeneration',\n",
              "       'epiretinal membrane，myelinated nerve fibers',\n",
              "       'diabetic retinopathy', 'epiretinal membrane，lens dust', 'atrophy',\n",
              "       'laser spot，white vessel，moderate non proliferative retinopathy',\n",
              "       'chorioretinal atrophy',\n",
              "       'moderate non proliferative retinopathy，cataract',\n",
              "       'retinitis pigmentosa',\n",
              "       'moderate non proliferative retinopathy，retina fold',\n",
              "       'normal fundus，lens dust', 'suspected glaucoma',\n",
              "       'vitreous degeneration', 'branch retinal vein occlusion',\n",
              "       'retinal pigment epithelium atrophy，diabetic retinopathy',\n",
              "       'severe nonproliferative retinopathy，white vessel',\n",
              "       'moderate non proliferative retinopathy，epiretinal membrane',\n",
              "       'spotted membranous change，spotted membranous change',\n",
              "       'proliferative diabetic retinopathy，hypertensive retinopathy',\n",
              "       'epiretinal membrane，mild nonproliferative retinopathy',\n",
              "       'drusen，lens dust', 'myelinated nerve fibers',\n",
              "       'macular epiretinal membrane，moderate non proliferative retinopathy',\n",
              "       'severe nonproliferative retinopathy，hypertensive retinopathy',\n",
              "       'retinal pigmentation', 'glaucoma', 'refractive media opacity',\n",
              "       'mild nonproliferative retinopathy，epiretinal membrane',\n",
              "       'mild nonproliferative retinopathy，myelinated nerve fibers',\n",
              "       'dry age-related macular degeneration，glaucoma',\n",
              "       'lens dust，vitreous degeneration',\n",
              "       'laser spot，severe proliferative diabetic retinopathy',\n",
              "       'spotted membranous change',\n",
              "       'lens dust，moderate non proliferative retinopathy',\n",
              "       'mild nonproliferative retinopathy，epiretinal membrane over the macula',\n",
              "       'mild nonproliferative retinopathy，macular epiretinal membrane',\n",
              "       'central retinal vein occlusion',\n",
              "       'severe nonproliferative retinopathy',\n",
              "       'dry age-related macular degeneration，diabetic retinopathy',\n",
              "       'epiretinal membrane，moderate non proliferative retinopathy',\n",
              "       'lens dust，normal fundus',\n",
              "       'depigmentation of the retinal pigment epithelium',\n",
              "       'suspected retinal vascular sheathing',\n",
              "       'maculopathy，macular epiretinal membrane', 'tessellated fundus',\n",
              "       'moderate non proliferative retinopathy，lens dust',\n",
              "       'macular coloboma',\n",
              "       'white vessel，severe nonproliferative retinopathy',\n",
              "       'moderate non proliferative retinopathy，branch retinal vein occlusion',\n",
              "       'macular epiretinal membrane，vessel tortuosity',\n",
              "       'hypertensive retinopathy,diabetic retinopathy',\n",
              "       'hypertensive retinopathy，optic nerve atrophy',\n",
              "       'wedge white line change',\n",
              "       'moderate non proliferative retinopathy，drusen',\n",
              "       'epiretinal membrane over the macula',\n",
              "       'mild nonproliferative retinopathy，drusen',\n",
              "       'white vessel，moderate non proliferative retinopathy',\n",
              "       'hypertensive retinopathy，suspected glaucoma',\n",
              "       'old choroiditis，macular epiretinal membrane',\n",
              "       'myopic maculopathy',\n",
              "       'macular epiretinal membrane，severe nonproliferative retinopathy',\n",
              "       'chorioretinal atrophy with pigmentation proliferation，epiretinal membrane',\n",
              "       'laser spot',\n",
              "       'chorioretinal atrophy with pigmentation proliferation',\n",
              "       'laser spot，proliferative diabetic retinopathy，white vessel',\n",
              "       'lens dust，macular epiretinal membrane',\n",
              "       'laser spot，mild nonproliferative retinopathy',\n",
              "       'pigment epithelium proliferation',\n",
              "       'optic disk epiretinal membrane', 'drusen，cataract，lens dust',\n",
              "       'chorioretinal atrophy with pigmentation proliferation，lens dust',\n",
              "       'macular epiretinal membrane，lens dust',\n",
              "       'moderate non proliferative retinopathy，macular epiretinal membrane',\n",
              "       'mild nonproliferative retinopathy，vitreous degeneration',\n",
              "       'vitreous degeneration，mild nonproliferative retinopathy',\n",
              "       'optic disk photographically invisible',\n",
              "       'moderate non proliferative retinopathy，chorioretinal atrophy',\n",
              "       'epiretinal membrane over the macula，white vessel',\n",
              "       'laser spot，white vessel',\n",
              "       'laser spot，moderate non proliferative retinopathy，macular epiretinal membrane',\n",
              "       'maculopathy',\n",
              "       'mild nonproliferative retinopathy，retinal pigmentation',\n",
              "       'hypertensive retinopathy，mild nonproliferative retinopathy',\n",
              "       'moderate non proliferative retinopathy，white vessel',\n",
              "       'mild nonproliferative retinopathy，mild nonproliferative retinopathy',\n",
              "       'severe proliferative diabetic retinopathy', 'cataract，lens dust',\n",
              "       'epiretinal membrane，drusen', 'lens dust，drusen',\n",
              "       'cataract，suspected glaucoma',\n",
              "       'epiretinal membrane，laser spot，severe proliferative diabetic retinopathy',\n",
              "       'moderate non proliferative retinopathy，optic disc edema',\n",
              "       'moderate non proliferative retinopathy，vitreous degeneration',\n",
              "       'old chorioretinopathy', 'old branch retinal vein occlusion',\n",
              "       'vitreous degeneration，vitreous degeneration',\n",
              "       'macular epiretinal membrane，moderate non proliferative retinopathy，laser spot',\n",
              "       'suspected glaucoma，suspicious diabetic retinopathy',\n",
              "       'hypertensive retinopathy，suspected diabetic retinopathy',\n",
              "       'myelinated nerve fibers，moderate non proliferative retinopathy',\n",
              "       'branch retinal vein occlusion，lens dust',\n",
              "       'drusen，branch retinal vein occlusion',\n",
              "       'hypertensive retinopathy，moderate non proliferative retinopathy',\n",
              "       'idiopathic choroidal neovascularization',\n",
              "       'wet age-related macular degeneration，diffuse chorioretinal atrophy',\n",
              "       'proliferative diabetic retinopathy',\n",
              "       'drusen，mild nonproliferative retinopathy',\n",
              "       'cataract，moderate non proliferative retinopathy',\n",
              "       'epiretinal membrane，normal fundus，lens dust',\n",
              "       'moderate non proliferative retinopathy，atrophic change',\n",
              "       'suspected glaucoma，moderate non proliferative retinopathy',\n",
              "       'dry age-related macular degeneration，myopia retinopathy',\n",
              "       'diabetic retinopathy，wet age-related macular degeneration',\n",
              "       'lens dust，mild nonproliferative retinopathy，myelinated nerve fibers',\n",
              "       'diabetic retinopathy，post laser photocoagulation',\n",
              "       'dry age-related macular degeneration，hypertensive retinopathy',\n",
              "       'laser spot，branch retinal vein occlusion',\n",
              "       'white vessel，arteriosclerosis', 'silicone oil eye',\n",
              "       'epiretinal membrane，chorioretinal atrophy', 'optic disc edema',\n",
              "       'dry age-related macular degeneration，choroidal nevus',\n",
              "       'glaucoma，optic nerve atrophy', 'glaucoma，myopia retinopathy',\n",
              "       'glaucoma，macular epiretinal membrane',\n",
              "       'glaucoma，diabetic retinopathy', 'image offset',\n",
              "       'glaucoma，diffuse retinal atrophy',\n",
              "       'old central retinal vein occlusion',\n",
              "       'fundus laser photocoagulation spots',\n",
              "       'glaucoma，intraretinal hemorrhage',\n",
              "       'glaucoma，hypertensive retinopathy',\n",
              "       'glaucoma，central retinal vein occlusion',\n",
              "       'macular epiretinal membrane，glaucoma',\n",
              "       'suspected glaucoma，refractive media opacity',\n",
              "       'suspected glaucoma，mild nonproliferative retinopathy',\n",
              "       'white vessel，suspected glaucoma', 'suspected glaucoma，drusen',\n",
              "       'glaucoma，moderate non proliferative retinopathy',\n",
              "       'lens dust，glaucoma',\n",
              "       'moderate non proliferative retinopathy，glaucoma',\n",
              "       'refractive media opacity，pathological myopia',\n",
              "       'lens dust，pathological myopia',\n",
              "       'suspected moderate non proliferative retinopathy，pathological myopia',\n",
              "       'tessellated fundus，peripapillary atrophy',\n",
              "       'tessellated fundus，chorioretinal atrophy',\n",
              "       'moderate non proliferative retinopathy，pathological myopia',\n",
              "       'peripapillary atrophy', 'anterior segment image',\n",
              "       'laser spot，chorioretinal atrophy，glaucoma',\n",
              "       'diabetic retinopathy，dry age-related macular degeneration',\n",
              "       'glaucoma，lens dust',\n",
              "       'cataract，myelinated nerve fibers，moderate non proliferative retinopathy',\n",
              "       'maculopathy，glaucoma',\n",
              "       'myelinated nerve fibers，suspected glaucoma',\n",
              "       'hypertensive retinopathy，cataract',\n",
              "       'hypertensive retinopathy，diabetic retinopathy',\n",
              "       'diabetic retinopathy，wet age-related macular degeneration，macular epiretinal membrane',\n",
              "       'moderate non proliferative retinopathy，refractive media opacity',\n",
              "       'laser spot，cataract',\n",
              "       'cataract，mild nonproliferative retinopathy', 'lens dust，cataract',\n",
              "       'normal fundus，normal fundus', 'low image quality',\n",
              "       'mild nonproliferative retinopathy，hypertensive retinopathy',\n",
              "       'mild nonproliferative retinopathy，dry age-related macular degeneration',\n",
              "       'no fundus image',\n",
              "       'hypertensive retinopathy，age-related macular degeneration',\n",
              "       'epiretinal membrane，moderate non proliferative retinopathy，laser spot',\n",
              "       'vitreous degeneration，lens dust', 'low image quality,maculopathy',\n",
              "       'moderate non proliferative retinopathy，lens dust，drusen',\n",
              "       'mild nonproliferative retinopathy，lens dust，drusen',\n",
              "       'wet age-related macular degeneration，myopia retinopathy',\n",
              "       'macular epiretinal membrane，laser spot',\n",
              "       'epiretinal membrane，epiretinal membrane，lens dust',\n",
              "       'moderate non proliferative retinopathy，myelinated nerve fibers，laser spot',\n",
              "       'glaucoma，mild nonproliferative retinopathy，macular pigmentation disorder',\n",
              "       'moderate non proliferative retinopathy，suspected glaucoma',\n",
              "       'glaucoma，wet age-related macular degeneration'], dtype=object)"
            ]
          },
          "metadata": {},
          "execution_count": 12
        }
      ]
    },
    {
      "cell_type": "markdown",
      "source": [
        "**In out dataset, we used 4 classes:**\n",
        "- - Normal\n",
        "- - Glaucoma\n",
        "- - Cataract\n",
        "- - Diabetic Retinopathy\n",
        "     - mild nonproliferative retinopathy\n",
        "     - proliferative retinopathy\n",
        "     - diabetic retinopathy\n",
        "     - moderate non proliferative retinopathy"
      ],
      "metadata": {
        "id": "erslyfPejri0"
      }
    },
    {
      "cell_type": "code",
      "metadata": {
        "id": "ajtbvF9aMHlA"
      },
      "source": [
        "def has_cataract(text):\n",
        "    if \"cataract\" in text:\n",
        "        return 2\n",
        "    else:\n",
        "        return 0\n",
        "\n",
        "dataset['left_cataract'] = dataset['Left-Diagnostic Keywords'].apply(lambda x: has_cataract(x))\n",
        "dataset['right_cataract'] = dataset['Right-Diagnostic Keywords'].apply(lambda x: has_cataract(x))\n",
        "\n",
        "left_cataract = dataset.loc[(dataset.C == 1) & (dataset['left_cataract'] == 2)]['Left-Fundus'].values\n",
        "right_cataract = dataset.loc[(dataset.C == 1) & (dataset['right_cataract'] == 2)]['Right-Fundus'].values\n",
        "cataract = np.concatenate((left_cataract, right_cataract), axis=0)"
      ],
      "execution_count": 14,
      "outputs": []
    },
    {
      "cell_type": "code",
      "metadata": {
        "id": "sU2bYCMAXZR5"
      },
      "source": [
        "def has_normal_fundus(text):\n",
        "    if \"normal fundus\" in text:\n",
        "        return 1\n",
        "    else:\n",
        "        return 0\n",
        "\n",
        "dataset['left_normal'] = dataset['Left-Diagnostic Keywords'].apply(lambda x: has_normal_fundus(x))\n",
        "dataset['right_normal'] = dataset['Right-Diagnostic Keywords'].apply(lambda x: has_normal_fundus(x))\n",
        "\n",
        "left_normal = dataset.loc[(dataset.N == 1) & (dataset['left_normal'] == 1)][\"Left-Fundus\"].values\n",
        "right_normal = dataset.loc[(dataset.N == 1) & (dataset[\"right_normal\"] == 1)][\"Right-Fundus\"].values\n",
        "normal = np.concatenate((left_normal, right_normal), axis=0)"
      ],
      "execution_count": 15,
      "outputs": []
    },
    {
      "cell_type": "code",
      "metadata": {
        "id": "sQ0T8XG9rmm9"
      },
      "source": [
        "def has_retinopathy(text):\n",
        "  if ('mild nonproliferative retinopathy') or ('proliferative retinopathy') or ('diabetic retinopathy') or ('moderate non proliferative retinopathy') in text:\n",
        "    return 3\n",
        "  else:\n",
        "    return 0\n",
        "\n",
        "dataset['left_diabetes'] = dataset['Left-Diagnostic Keywords'].apply(lambda x: has_retinopathy(x))\n",
        "dataset['right_diabetes'] = dataset['Right-Diagnostic Keywords'].apply(lambda x: has_retinopathy(x))\n",
        "\n",
        "left_diabetes = dataset.loc[(dataset.D == 1) & (dataset['left_diabetes'] == 3)]['Left-Fundus'].values\n",
        "right_diabetes = dataset.loc[(dataset.D == 1) & (dataset['right_diabetes'] == 3)]['Right-Fundus'].values\n",
        "diabetes = np.concatenate((left_diabetes, right_diabetes), axis=0)"
      ],
      "execution_count": 16,
      "outputs": []
    },
    {
      "cell_type": "code",
      "metadata": {
        "id": "f7k_WGT-3y0D"
      },
      "source": [
        "def has_glaucoma(text):\n",
        "  if 'glaucoma' in text:\n",
        "    return 4\n",
        "  else:\n",
        "    return 0\n",
        "\n",
        "dataset['left_glaucoma'] = dataset['Left-Diagnostic Keywords'].apply(lambda x: has_glaucoma(x))\n",
        "dataset['right_glaucoma'] = dataset['Left-Diagnostic Keywords'].apply(lambda x: has_glaucoma(x))\n",
        "\n",
        "left_glaucoma = dataset.loc[(dataset.G == 1) & (dataset['left_glaucoma'] == 4)]['Left-Fundus'].values\n",
        "right_glaucoma = dataset.loc[(dataset.G == 1) & (dataset['right_glaucoma'] == 4)]['Right-Fundus'].values\n",
        "glaucoma = np.concatenate((left_glaucoma, right_glaucoma), axis=0)"
      ],
      "execution_count": 17,
      "outputs": []
    },
    {
      "cell_type": "code",
      "source": [
        "print(\"Cataract : \", len(cataract))\n",
        "print(\"Normal : \", len(normal))\n",
        "print(\"Glaucoma : \", len(glaucoma))\n",
        "print(\"Diabetes : \", len(diabetes))"
      ],
      "metadata": {
        "colab": {
          "base_uri": "https://localhost:8080/"
        },
        "id": "cQo1Q2oHnGSc",
        "outputId": "939ebedb-0cc2-408a-9e57-6c12cec0f742"
      },
      "execution_count": 19,
      "outputs": [
        {
          "output_type": "stream",
          "name": "stdout",
          "text": [
            "Cataract :  594\n",
            "Normal :  4201\n",
            "Glaucoma :  664\n",
            "Diabetes :  4246\n"
          ]
        }
      ]
    },
    {
      "cell_type": "code",
      "source": [],
      "metadata": {
        "id": "41thTboSngF0"
      },
      "execution_count": null,
      "outputs": []
    }
  ]
}